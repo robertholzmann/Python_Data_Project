{
 "cells": [
  {
   "cell_type": "code",
   "execution_count": 1,
   "metadata": {},
   "outputs": [],
   "source": [
    "import ast \n",
    "import pandas as pd\n",
    "from datasets import load_dataset\n",
    "import matplotlib.pyplot as plt \n",
    "\n",
    "dataset = load_dataset('lukebarousse/data_jobs')\n",
    "df = dataset['train'].to_pandas()\n",
    "\n",
    "df['job_posted_date'] = pd.to_datetime(df['job_posted_date'])\n",
    "df['job_skills'] = df['job_skills'].apply(lambda x: ast.literal_eval(x) if pd.notna(x) else x)"
   ]
  },
  {
   "cell_type": "code",
   "execution_count": 2,
   "metadata": {},
   "outputs": [],
   "source": [
    "df_DS_US = df[(df['job_title_short']=='Data Scientist') & (df['job_country']=='United States')].copy()\n",
    "\n",
    "df_DS_US = df_DS_US.dropna(subset= ['salary_year_avg'])"
   ]
  },
  {
   "cell_type": "code",
   "execution_count": 4,
   "metadata": {},
   "outputs": [],
   "source": [
    "df_DS_US = df_DS_US.explode('job_skills')\n"
   ]
  },
  {
   "cell_type": "code",
   "execution_count": 6,
   "metadata": {},
   "outputs": [],
   "source": [
    "df_DS_US_group = df_DS_US.groupby('job_skills')['salary_year_avg'].agg(['count', 'median'])"
   ]
  },
  {
   "cell_type": "code",
   "execution_count": 7,
   "metadata": {},
   "outputs": [
    {
     "data": {
      "text/html": [
       "<div>\n",
       "<style scoped>\n",
       "    .dataframe tbody tr th:only-of-type {\n",
       "        vertical-align: middle;\n",
       "    }\n",
       "\n",
       "    .dataframe tbody tr th {\n",
       "        vertical-align: top;\n",
       "    }\n",
       "\n",
       "    .dataframe thead th {\n",
       "        text-align: right;\n",
       "    }\n",
       "</style>\n",
       "<table border=\"1\" class=\"dataframe\">\n",
       "  <thead>\n",
       "    <tr style=\"text-align: right;\">\n",
       "      <th></th>\n",
       "      <th>count</th>\n",
       "      <th>median</th>\n",
       "    </tr>\n",
       "    <tr>\n",
       "      <th>job_skills</th>\n",
       "      <th></th>\n",
       "      <th></th>\n",
       "    </tr>\n",
       "  </thead>\n",
       "  <tbody>\n",
       "    <tr>\n",
       "      <th>asana</th>\n",
       "      <td>5</td>\n",
       "      <td>259000.00000</td>\n",
       "    </tr>\n",
       "    <tr>\n",
       "      <th>airtable</th>\n",
       "      <td>6</td>\n",
       "      <td>224250.00000</td>\n",
       "    </tr>\n",
       "    <tr>\n",
       "      <th>watson</th>\n",
       "      <td>10</td>\n",
       "      <td>213500.00000</td>\n",
       "    </tr>\n",
       "    <tr>\n",
       "      <th>unreal</th>\n",
       "      <td>4</td>\n",
       "      <td>211500.00000</td>\n",
       "    </tr>\n",
       "    <tr>\n",
       "      <th>ruby on rails</th>\n",
       "      <td>4</td>\n",
       "      <td>195500.00000</td>\n",
       "    </tr>\n",
       "    <tr>\n",
       "      <th>redhat</th>\n",
       "      <td>1</td>\n",
       "      <td>189500.00000</td>\n",
       "    </tr>\n",
       "    <tr>\n",
       "      <th>notion</th>\n",
       "      <td>9</td>\n",
       "      <td>187500.00000</td>\n",
       "    </tr>\n",
       "    <tr>\n",
       "      <th>slack</th>\n",
       "      <td>11</td>\n",
       "      <td>180000.00000</td>\n",
       "    </tr>\n",
       "    <tr>\n",
       "      <th>hugging face</th>\n",
       "      <td>15</td>\n",
       "      <td>179000.00000</td>\n",
       "    </tr>\n",
       "    <tr>\n",
       "      <th>elixir</th>\n",
       "      <td>2</td>\n",
       "      <td>175610.34375</td>\n",
       "    </tr>\n",
       "  </tbody>\n",
       "</table>\n",
       "</div>"
      ],
      "text/plain": [
       "               count        median\n",
       "job_skills                        \n",
       "asana              5  259000.00000\n",
       "airtable           6  224250.00000\n",
       "watson            10  213500.00000\n",
       "unreal             4  211500.00000\n",
       "ruby on rails      4  195500.00000\n",
       "redhat             1  189500.00000\n",
       "notion             9  187500.00000\n",
       "slack             11  180000.00000\n",
       "hugging face      15  179000.00000\n",
       "elixir             2  175610.34375"
      ]
     },
     "execution_count": 7,
     "metadata": {},
     "output_type": "execute_result"
    }
   ],
   "source": [
    "df_DS_top_pay = df_DS_US_group.sort_values(by='median', ascending=False).head(10)\n",
    "\n",
    "df_DS_top_pay"
   ]
  },
  {
   "cell_type": "code",
   "execution_count": 13,
   "metadata": {},
   "outputs": [
    {
     "data": {
      "text/html": [
       "<div>\n",
       "<style scoped>\n",
       "    .dataframe tbody tr th:only-of-type {\n",
       "        vertical-align: middle;\n",
       "    }\n",
       "\n",
       "    .dataframe tbody tr th {\n",
       "        vertical-align: top;\n",
       "    }\n",
       "\n",
       "    .dataframe thead th {\n",
       "        text-align: right;\n",
       "    }\n",
       "</style>\n",
       "<table border=\"1\" class=\"dataframe\">\n",
       "  <thead>\n",
       "    <tr style=\"text-align: right;\">\n",
       "      <th></th>\n",
       "      <th>count</th>\n",
       "      <th>median</th>\n",
       "    </tr>\n",
       "    <tr>\n",
       "      <th>job_skills</th>\n",
       "      <th></th>\n",
       "      <th></th>\n",
       "    </tr>\n",
       "  </thead>\n",
       "  <tbody>\n",
       "    <tr>\n",
       "      <th>tensorflow</th>\n",
       "      <td>474</td>\n",
       "      <td>149646.0</td>\n",
       "    </tr>\n",
       "    <tr>\n",
       "      <th>spark</th>\n",
       "      <td>718</td>\n",
       "      <td>135959.5</td>\n",
       "    </tr>\n",
       "    <tr>\n",
       "      <th>sql</th>\n",
       "      <td>2463</td>\n",
       "      <td>134500.0</td>\n",
       "    </tr>\n",
       "    <tr>\n",
       "      <th>aws</th>\n",
       "      <td>768</td>\n",
       "      <td>134000.0</td>\n",
       "    </tr>\n",
       "    <tr>\n",
       "      <th>python</th>\n",
       "      <td>3358</td>\n",
       "      <td>131867.0</td>\n",
       "    </tr>\n",
       "    <tr>\n",
       "      <th>r</th>\n",
       "      <td>2053</td>\n",
       "      <td>126000.0</td>\n",
       "    </tr>\n",
       "    <tr>\n",
       "      <th>tableau</th>\n",
       "      <td>989</td>\n",
       "      <td>125000.0</td>\n",
       "    </tr>\n",
       "    <tr>\n",
       "      <th>hadoop</th>\n",
       "      <td>468</td>\n",
       "      <td>125000.0</td>\n",
       "    </tr>\n",
       "    <tr>\n",
       "      <th>excel</th>\n",
       "      <td>490</td>\n",
       "      <td>124290.0</td>\n",
       "    </tr>\n",
       "    <tr>\n",
       "      <th>sas</th>\n",
       "      <td>1022</td>\n",
       "      <td>120000.0</td>\n",
       "    </tr>\n",
       "  </tbody>\n",
       "</table>\n",
       "</div>"
      ],
      "text/plain": [
       "            count    median\n",
       "job_skills                 \n",
       "tensorflow    474  149646.0\n",
       "spark         718  135959.5\n",
       "sql          2463  134500.0\n",
       "aws           768  134000.0\n",
       "python       3358  131867.0\n",
       "r            2053  126000.0\n",
       "tableau       989  125000.0\n",
       "hadoop        468  125000.0\n",
       "excel         490  124290.0\n",
       "sas          1022  120000.0"
      ]
     },
     "execution_count": 13,
     "metadata": {},
     "output_type": "execute_result"
    }
   ],
   "source": [
    "df_DS_top_skills = df_DS_US_group.sort_values(by='count', ascending=False).head(10).sort_values(by='median', ascending=False)\n",
    "\n",
    "df_DS_top_skills"
   ]
  },
  {
   "cell_type": "code",
   "execution_count": 32,
   "metadata": {},
   "outputs": [
    {
     "data": {
      "image/png": "[encoded data removed]",
      "text/plain": [
       "<Figure size 640x480 with 2 Axes>"
      ]
     },
     "metadata": {},
     "output_type": "display_data"
    }
   ],
   "source": [
    "fig, ax = plt.subplots(2,1)\n",
    "\n",
    "df_DS_top_pay.plot(kind='barh', y='median', ax=ax[0], legend=False)\n",
    "ax[0].invert_yaxis()\n",
    "ax[0].set_title('Top Ten Highest Paid Skills for Data Scientist')\n",
    "ax[0].set_xlabel('')\n",
    "ax[0].set_ylabel('')\n",
    "ax[0].xaxis.set_major_formatter(plt.FuncFormatter(lambda x,pos: f'${int(x/1000)}K'))\n",
    "\n",
    "\n",
    "\n",
    "df_DS_top_skills.plot(kind='barh', y='median', ax=ax[1], legend=False)\n",
    "ax[1].invert_yaxis()\n",
    "ax[1].set_xlim(ax[0].get_xlim())\n",
    "ax[1].set_title('Top Ten Skills and Their Salaries for Data Scientist')\n",
    "ax[1].set_xlabel('Median Salary (USD)')\n",
    "ax[1].set_ylabel('')\n",
    "ax[1].xaxis.set_major_formatter(plt.FuncFormatter(lambda x,pos: f'${int(x/1000)}K'))\n",
    "\n",
    "\n",
    "fig.tight_layout()"
   ]
  },
  {
   "cell_type": "code",
   "execution_count": null,
   "metadata": {},
   "outputs": [],
   "source": []
  }
 ],
 "metadata": {
  "kernelspec": {
   "display_name": "python_course",
   "language": "python",
   "name": "python3"
  },
  "language_info": {
   "codemirror_mode": {
    "name": "ipython",
    "version": 3
   },
   "file_extension": ".py",
   "mimetype": "text/x-python",
   "name": "python",
   "nbconvert_exporter": "python",
   "pygments_lexer": "ipython3",
   "version": "3.11.9"
  },
  "orig_nbformat": 4
 },
 "nbformat": 4,
 "nbformat_minor": 2
}
